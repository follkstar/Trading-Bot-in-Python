{
 "cells": [
  {
   "cell_type": "code",
   "execution_count": 1,
   "metadata": {},
   "outputs": [],
   "source": [
    "from ib_async import * \n",
    "import pandas as pd\n",
    "import numpy as np\n",
    "import datetime as dt\n",
    "from datetime import datetime, timezone # new\n",
    "from IPython.display import display, clear_output\n",
    "util.startLoop()"
   ]
  },
  {
   "cell_type": "code",
   "execution_count": 3,
   "metadata": {},
   "outputs": [
    {
     "data": {
      "text/plain": [
       "<IB connected to 127.0.0.1:7497 clientId=1>"
      ]
     },
     "execution_count": 3,
     "metadata": {},
     "output_type": "execute_result"
    },
    {
     "name": "stderr",
     "output_type": "stream",
     "text": [
      "C:\\Users\\email\\AppData\\Local\\Temp\\ipykernel_31084\\3444206324.py:20: FutureWarning: Series.__getitem__ treating keys as positions is deprecated. In a future version, integer keys will always be treated as labels (consistent with DataFrame behavior). To access a value by position, use `ser.iloc[pos]`\n",
      "  target = df[\"position\"][-1] * units\n",
      "C:\\Users\\email\\AppData\\Local\\Temp\\ipykernel_31084\\3444206324.py:20: FutureWarning: Series.__getitem__ treating keys as positions is deprecated. In a future version, integer keys will always be treated as labels (consistent with DataFrame behavior). To access a value by position, use `ser.iloc[pos]`\n",
      "  target = df[\"position\"][-1] * units\n",
      "C:\\Users\\email\\AppData\\Local\\Temp\\ipykernel_31084\\3444206324.py:20: FutureWarning: Series.__getitem__ treating keys as positions is deprecated. In a future version, integer keys will always be treated as labels (consistent with DataFrame behavior). To access a value by position, use `ser.iloc[pos]`\n",
      "  target = df[\"position\"][-1] * units\n",
      "Error 162, reqId 136: Historical Market Data Service error message:API historical data query cancelled: 136\n"
     ]
    }
   ],
   "source": [
    "ib = IB()\n",
    "ib.connect()"
   ]
  },
  {
   "cell_type": "code",
   "execution_count": 4,
   "metadata": {},
   "outputs": [],
   "source": [
    "# strategy parameters\n",
    "sma_s = 2\n",
    "sma_l = 5\n",
    "freq = \"1 min\"\n",
    "units = 1000\n",
    "end_time = dt.time(20, 5, 0) # stop condition\n",
    "contract = Forex('EURUSD') \n",
    "ib.qualifyContracts(contract)\n",
    "cfd = CFD(\"EUR\", currency = \"USD\")\n",
    "ib.qualifyContracts(cfd)\n",
    "conID = cfd.conId"
   ]
  },
  {
   "cell_type": "code",
   "execution_count": 5,
   "metadata": {},
   "outputs": [
    {
     "data": {
      "text/plain": [
       "datetime.time(14, 59, 56, 841626)"
      ]
     },
     "execution_count": 5,
     "metadata": {},
     "output_type": "execute_result"
    }
   ],
   "source": [
    "datetime.now(timezone.utc).time() # new"
   ]
  },
  {
   "cell_type": "code",
   "execution_count": 6,
   "metadata": {},
   "outputs": [
    {
     "data": {
      "text/plain": [
       "False"
      ]
     },
     "execution_count": 6,
     "metadata": {},
     "output_type": "execute_result"
    }
   ],
   "source": [
    "datetime.now(timezone.utc).time() >= end_time # new"
   ]
  },
  {
   "cell_type": "code",
   "execution_count": 7,
   "metadata": {},
   "outputs": [],
   "source": [
    "def onBarUpdate(bars, hasNewBar):  \n",
    "    global df, last_bar\n",
    "    \n",
    "    if bars[-1].date > last_bar: \n",
    "        last_bar = bars[-1].date\n",
    "    \n",
    "        # Data Processing\n",
    "        df = pd.DataFrame(bars)[[\"date\", \"open\", \"high\", \"low\", \"close\"]].iloc[:-1] \n",
    "        df.set_index(\"date\", inplace = True)\n",
    "        \n",
    "        ####################### Trading Strategy ###########################\n",
    "        df = df[[\"close\"]].copy()\n",
    "        df[\"sma_s\"] = df.close.rolling(sma_s).mean()\n",
    "        df[\"sma_l\"] = df.close.rolling(sma_l).mean()\n",
    "        df.dropna(inplace = True)\n",
    "        df[\"position\"] = np.where(df[\"sma_s\"] > df[\"sma_l\"], 1, -1 )\n",
    "        ####################################################################\n",
    "        \n",
    "        # Trading\n",
    "        target = df[\"position\"][-1] * units\n",
    "        execute_trade(target = target)\n",
    "        \n",
    "        # Display\n",
    "        clear_output(wait=True)\n",
    "        display(df)\n",
    "    else:\n",
    "        try:\n",
    "            trade_reporting()\n",
    "        except:\n",
    "            pass\n",
    "\n",
    "def execute_trade(target):\n",
    "    global current_pos\n",
    "    \n",
    "    # 1. get current Position\n",
    "    try:\n",
    "        current_pos = [pos.position for pos in ib.positions() if pos.contract.conId == conID][0]\n",
    "    except:\n",
    "        current_pos = 0\n",
    "         \n",
    "    # 2. identify required trades\n",
    "    trades = target - current_pos\n",
    "        \n",
    "    # 3. trade execution\n",
    "    if trades > 0:\n",
    "        side = \"BUY\"\n",
    "        order = MarketOrder(side, abs(trades))\n",
    "        trade = ib.placeOrder(cfd, order)  \n",
    "    elif trades < 0:\n",
    "        side = \"SELL\"\n",
    "        order = MarketOrder(side, abs(trades))\n",
    "        trade = ib.placeOrder(cfd, order)\n",
    "    else:\n",
    "        pass\n",
    "\n",
    "def trade_reporting():\n",
    "    global report\n",
    "    \n",
    "    fill_df = util.df([fs.execution for fs in ib.fills()])[[\"execId\", \"time\", \"side\", \"cumQty\", \"avgPrice\"]].set_index(\"execId\")\n",
    "    profit_df = util.df([fs.commissionReport for fs in ib.fills()])[[\"execId\", \"realizedPNL\"]].set_index(\"execId\")\n",
    "    report = pd.concat([fill_df, profit_df], axis = 1).set_index(\"time\").loc[session_start:]\n",
    "    report = report.groupby(\"time\").agg({\"side\":\"first\", \"cumQty\":\"max\", \"avgPrice\":\"mean\", \"realizedPNL\":\"sum\"})\n",
    "    report[\"cumPNL\"] = report.realizedPNL.cumsum()\n",
    "        \n",
    "    clear_output(wait=True)\n",
    "    display(df, report)\n",
    "  "
   ]
  },
  {
   "cell_type": "code",
   "execution_count": 8,
   "metadata": {},
   "outputs": [
    {
     "data": {
      "text/html": [
       "<div>\n",
       "<style scoped>\n",
       "    .dataframe tbody tr th:only-of-type {\n",
       "        vertical-align: middle;\n",
       "    }\n",
       "\n",
       "    .dataframe tbody tr th {\n",
       "        vertical-align: top;\n",
       "    }\n",
       "\n",
       "    .dataframe thead th {\n",
       "        text-align: right;\n",
       "    }\n",
       "</style>\n",
       "<table border=\"1\" class=\"dataframe\">\n",
       "  <thead>\n",
       "    <tr style=\"text-align: right;\">\n",
       "      <th></th>\n",
       "      <th>close</th>\n",
       "      <th>sma_s</th>\n",
       "      <th>sma_l</th>\n",
       "      <th>position</th>\n",
       "    </tr>\n",
       "    <tr>\n",
       "      <th>date</th>\n",
       "      <th></th>\n",
       "      <th></th>\n",
       "      <th></th>\n",
       "      <th></th>\n",
       "    </tr>\n",
       "  </thead>\n",
       "  <tbody>\n",
       "    <tr>\n",
       "      <th>2025-03-10 21:19:00+00:00</th>\n",
       "      <td>1.083345</td>\n",
       "      <td>1.083345</td>\n",
       "      <td>1.083337</td>\n",
       "      <td>1</td>\n",
       "    </tr>\n",
       "    <tr>\n",
       "      <th>2025-03-10 21:20:00+00:00</th>\n",
       "      <td>1.083355</td>\n",
       "      <td>1.083350</td>\n",
       "      <td>1.083342</td>\n",
       "      <td>1</td>\n",
       "    </tr>\n",
       "    <tr>\n",
       "      <th>2025-03-10 21:21:00+00:00</th>\n",
       "      <td>1.083355</td>\n",
       "      <td>1.083355</td>\n",
       "      <td>1.083346</td>\n",
       "      <td>1</td>\n",
       "    </tr>\n",
       "    <tr>\n",
       "      <th>2025-03-10 21:22:00+00:00</th>\n",
       "      <td>1.083355</td>\n",
       "      <td>1.083355</td>\n",
       "      <td>1.083351</td>\n",
       "      <td>1</td>\n",
       "    </tr>\n",
       "    <tr>\n",
       "      <th>2025-03-10 21:23:00+00:00</th>\n",
       "      <td>1.083300</td>\n",
       "      <td>1.083327</td>\n",
       "      <td>1.083342</td>\n",
       "      <td>-1</td>\n",
       "    </tr>\n",
       "    <tr>\n",
       "      <th>...</th>\n",
       "      <td>...</td>\n",
       "      <td>...</td>\n",
       "      <td>...</td>\n",
       "      <td>...</td>\n",
       "    </tr>\n",
       "    <tr>\n",
       "      <th>2025-03-11 14:57:00+00:00</th>\n",
       "      <td>1.091595</td>\n",
       "      <td>1.091435</td>\n",
       "      <td>1.091565</td>\n",
       "      <td>-1</td>\n",
       "    </tr>\n",
       "    <tr>\n",
       "      <th>2025-03-11 14:58:00+00:00</th>\n",
       "      <td>1.091805</td>\n",
       "      <td>1.091700</td>\n",
       "      <td>1.091562</td>\n",
       "      <td>1</td>\n",
       "    </tr>\n",
       "    <tr>\n",
       "      <th>2025-03-11 14:59:00+00:00</th>\n",
       "      <td>1.091935</td>\n",
       "      <td>1.091870</td>\n",
       "      <td>1.091577</td>\n",
       "      <td>1</td>\n",
       "    </tr>\n",
       "    <tr>\n",
       "      <th>2025-03-11 15:00:00+00:00</th>\n",
       "      <td>1.091845</td>\n",
       "      <td>1.091890</td>\n",
       "      <td>1.091691</td>\n",
       "      <td>1</td>\n",
       "    </tr>\n",
       "    <tr>\n",
       "      <th>2025-03-11 15:01:00+00:00</th>\n",
       "      <td>1.091725</td>\n",
       "      <td>1.091785</td>\n",
       "      <td>1.091781</td>\n",
       "      <td>1</td>\n",
       "    </tr>\n",
       "  </tbody>\n",
       "</table>\n",
       "<p>1063 rows × 4 columns</p>\n",
       "</div>"
      ],
      "text/plain": [
       "                              close     sma_s     sma_l  position\n",
       "date                                                             \n",
       "2025-03-10 21:19:00+00:00  1.083345  1.083345  1.083337         1\n",
       "2025-03-10 21:20:00+00:00  1.083355  1.083350  1.083342         1\n",
       "2025-03-10 21:21:00+00:00  1.083355  1.083355  1.083346         1\n",
       "2025-03-10 21:22:00+00:00  1.083355  1.083355  1.083351         1\n",
       "2025-03-10 21:23:00+00:00  1.083300  1.083327  1.083342        -1\n",
       "...                             ...       ...       ...       ...\n",
       "2025-03-11 14:57:00+00:00  1.091595  1.091435  1.091565        -1\n",
       "2025-03-11 14:58:00+00:00  1.091805  1.091700  1.091562         1\n",
       "2025-03-11 14:59:00+00:00  1.091935  1.091870  1.091577         1\n",
       "2025-03-11 15:00:00+00:00  1.091845  1.091890  1.091691         1\n",
       "2025-03-11 15:01:00+00:00  1.091725  1.091785  1.091781         1\n",
       "\n",
       "[1063 rows x 4 columns]"
      ]
     },
     "metadata": {},
     "output_type": "display_data"
    },
    {
     "data": {
      "text/html": [
       "<div>\n",
       "<style scoped>\n",
       "    .dataframe tbody tr th:only-of-type {\n",
       "        vertical-align: middle;\n",
       "    }\n",
       "\n",
       "    .dataframe tbody tr th {\n",
       "        vertical-align: top;\n",
       "    }\n",
       "\n",
       "    .dataframe thead th {\n",
       "        text-align: right;\n",
       "    }\n",
       "</style>\n",
       "<table border=\"1\" class=\"dataframe\">\n",
       "  <thead>\n",
       "    <tr style=\"text-align: right;\">\n",
       "      <th></th>\n",
       "      <th>side</th>\n",
       "      <th>cumQty</th>\n",
       "      <th>avgPrice</th>\n",
       "      <th>realizedPNL</th>\n",
       "      <th>cumPNL</th>\n",
       "    </tr>\n",
       "    <tr>\n",
       "      <th>time</th>\n",
       "      <th></th>\n",
       "      <th></th>\n",
       "      <th></th>\n",
       "      <th></th>\n",
       "      <th></th>\n",
       "    </tr>\n",
       "  </thead>\n",
       "  <tbody>\n",
       "  </tbody>\n",
       "</table>\n",
       "</div>"
      ],
      "text/plain": [
       "Empty DataFrame\n",
       "Columns: [side, cumQty, avgPrice, realizedPNL, cumPNL]\n",
       "Index: []"
      ]
     },
     "metadata": {},
     "output_type": "display_data"
    }
   ],
   "source": [
    "# start trading session\n",
    "session_start = pd.to_datetime(datetime.now(timezone.utc))# new\n",
    "bars = ib.reqHistoricalData(\n",
    "        contract,\n",
    "        endDateTime='',\n",
    "        durationStr='1 D',\n",
    "        barSizeSetting=freq,\n",
    "        whatToShow='MIDPOINT',\n",
    "        useRTH=True,\n",
    "        formatDate=2,\n",
    "        keepUpToDate=True)\n",
    "last_bar = bars[-1].date\n",
    "bars.updateEvent += onBarUpdate\n",
    "ib.sleep(30) # new - to be added (optional)\n",
    "\n",
    "# stop trading session\n",
    "while True:\n",
    "    ib.sleep(5) # check every 5 seconds\n",
    "    if datetime.now(timezone.utc).time() >= end_time: # if stop conditions has been met\n",
    "        execute_trade(target = 0) # close open position \n",
    "        ib.cancelHistoricalData(bars) # stop stream\n",
    "        ib.sleep(10)\n",
    "        try:\n",
    "            trade_reporting() # final reporting\n",
    "        except:\n",
    "            pass\n",
    "        print(\"Session Stopped.\")\n",
    "        ib.disconnect()\n",
    "        break\n",
    "    else:\n",
    "        pass"
   ]
  },
  {
   "cell_type": "code",
   "execution_count": 9,
   "metadata": {},
   "outputs": [],
   "source": [
    "ib.cancelHistoricalData(bars) # cancel trading"
   ]
  },
  {
   "cell_type": "code",
   "execution_count": 10,
   "metadata": {},
   "outputs": [],
   "source": [
    "ib.disconnect()"
   ]
  }
 ],
 "metadata": {
  "kernelspec": {
   "display_name": "my.venv",
   "language": "python",
   "name": "python3"
  },
  "language_info": {
   "codemirror_mode": {
    "name": "ipython",
    "version": 3
   },
   "file_extension": ".py",
   "mimetype": "text/x-python",
   "name": "python",
   "nbconvert_exporter": "python",
   "pygments_lexer": "ipython3",
   "version": "3.11.7"
  }
 },
 "nbformat": 4,
 "nbformat_minor": 2
}
